{
 "cells": [
  {
   "cell_type": "code",
   "execution_count": 1,
   "metadata": {},
   "outputs": [
    {
     "name": "stdout",
     "output_type": "stream",
     "text": [
      "(599, 106)\n",
      "(30, 106)\n",
      "                mBAL-202-DNA-B3  mBAL-202-DNA-TA1-B10  mBAL-203-DNA-B1  \\\n",
      "Proteobacteria         0.000000              0.125984         0.826923   \n",
      "Firmicutes             0.991522              0.000000         0.000000   \n",
      "Actinobacteria         0.008478              0.000000         0.057692   \n",
      "Bacteroidetes          0.000000              0.000000         0.000000   \n",
      "Ascomycota             0.000000              0.094488         0.115385   \n",
      "\n",
      "                mBAL-203-DNA-TA1-B8  mBAL-204-DNA-B1  mBAL-204-DNA-TA1-B8  \\\n",
      "Proteobacteria             0.000184              1.0             0.295455   \n",
      "Firmicutes                 0.992864              0.0             0.000000   \n",
      "Actinobacteria             0.005337              0.0             0.102273   \n",
      "Bacteroidetes              0.000125              0.0             0.000000   \n",
      "Ascomycota                 0.001241              0.0             0.602273   \n",
      "\n",
      "                mBAL-205-DNA-B3  mBAL-205-DNA-TA1-B8  mBAL-208-DNA-B3  \\\n",
      "Proteobacteria            0.675                  1.0         0.441443   \n",
      "Firmicutes                0.050                  0.0         0.135136   \n",
      "Actinobacteria            0.050                  0.0         0.369367   \n",
      "Bacteroidetes             0.000                  0.0         0.036036   \n",
      "Ascomycota                0.050                  0.0         0.009009   \n",
      "\n",
      "                mBAL-208-DNA-TA1-B10          ...           mBAL-298-DNA-B3  \\\n",
      "Proteobacteria              0.000000          ...                  0.983871   \n",
      "Firmicutes                  0.998897          ...                  0.012300   \n",
      "Actinobacteria              0.000000          ...                  0.003018   \n",
      "Bacteroidetes               0.000000          ...                  0.000000   \n",
      "Ascomycota                  0.001103          ...                  0.000000   \n",
      "\n",
      "                mBAL-298-DNA-TA1-B8  mBAL-301-DNA-B2  mBAL-301-DNA-TA1-B10  \\\n",
      "Proteobacteria             0.984583         0.468747              0.500000   \n",
      "Firmicutes                 0.012970         0.205228              0.332426   \n",
      "Actinobacteria             0.002131         0.299673              0.137188   \n",
      "Bacteroidetes              0.000049         0.006430              0.005442   \n",
      "Ascomycota                 0.000000         0.003900              0.000000   \n",
      "\n",
      "                mBAL-319-DNA-MB1-ZYM-6117-B7  mBAL-319-DNA-TA1-ZYM-6717-B7  \\\n",
      "Proteobacteria                      0.190307                      0.018478   \n",
      "Firmicutes                          0.011032                      0.006522   \n",
      "Actinobacteria                      0.136328                      0.006522   \n",
      "Bacteroidetes                       0.000000                      0.000000   \n",
      "Ascomycota                          0.654058                      0.968478   \n",
      "\n",
      "                mBAL-325-DNA-B6  mBAL-325-DNA-TA1-B8  mBAL-331-DNA-B6  \\\n",
      "Proteobacteria         0.166667                  0.5         0.111570   \n",
      "Firmicutes             0.395833                  0.0         0.415289   \n",
      "Actinobacteria         0.041667                  0.0         0.130165   \n",
      "Bacteroidetes          0.000000                  0.0         0.183884   \n",
      "Ascomycota             0.375000                  0.5         0.119835   \n",
      "\n",
      "                mBAL-331-DNA-TA1-B10  \n",
      "Proteobacteria              0.024490  \n",
      "Firmicutes                  0.665306  \n",
      "Actinobacteria              0.053061  \n",
      "Bacteroidetes               0.179592  \n",
      "Ascomycota                  0.077551  \n",
      "\n",
      "[5 rows x 106 columns]\n"
     ]
    }
   ],
   "source": [
    "import seaborn as sns\n",
    "import pandas as pd\n",
    "import matplotlib.pyplot as plt\n",
    "import sys\n",
    "\n",
    "# read in the output from assembler2 script:\n",
    "# python PhyloWalk.py merged_genusrpm.tsv order\n",
    "DF = pd.read_csv('merged_genusrpmphylum.csv',index_col=0)\n",
    "print(DF.shape)\n",
    "combined_DF = DF.groupby(DF.index).sum()  # merged the dataframe on duplicate indices\n",
    "print(combined_DF.shape)\n",
    "\n",
    "normalized_combined_DF = combined_DF/combined_DF.sum(axis=0)  # normalize the counts for a stacked bar chart\n",
    "new_order = normalized_combined_DF.sum(axis=1).sort_values(ascending=False).index  # re-order so that maximal taxonomy is on bottom\n",
    "plot_DF = normalized_combined_DF.loc[new_order]\n",
    "\n",
    "print(plot_DF.head())"
   ]
  },
  {
   "cell_type": "code",
   "execution_count": 2,
   "metadata": {
    "collapsed": true
   },
   "outputs": [],
   "source": [
    "plot_DF.to_csv('phylum_proportions.csv',sep='\\t')"
   ]
  },
  {
   "cell_type": "code",
   "execution_count": 3,
   "metadata": {
    "collapsed": true
   },
   "outputs": [],
   "source": [
    "TAvalues = [i for i in plot_DF.columns if 'TA' in i]\n",
    "mBALvalues = [i for i in plot_DF.columns if 'TA' not in i]\n",
    "\n",
    "new_order = TAvalues + mBALvalues\n",
    "\n",
    "plotDF_split = plot_DF[new_order]"
   ]
  },
  {
   "cell_type": "code",
   "execution_count": 4,
   "metadata": {
    "collapsed": true
   },
   "outputs": [],
   "source": [
    "# create the taxonomy plot (grouped at whatever level the input taxonomy file was generated)\n",
    "c = sns.color_palette(\"Paired\",20)  # set color scheme\n",
    "plotDF_split.transpose().plot(kind='bar',legend=True,stacked=True,figsize=(24,8),color = c, width=.8)\n",
    "plt.legend(bbox_to_anchor=(1.02,1), loc=\"upper left\")\n",
    "plt.savefig('TaxonomyPlot.pdf')  # save to .pdf"
   ]
  }
 ],
 "metadata": {
  "kernelspec": {
   "display_name": "Python 3",
   "language": "python",
   "name": "python3"
  },
  "language_info": {
   "codemirror_mode": {
    "name": "ipython",
    "version": 3
   },
   "file_extension": ".py",
   "mimetype": "text/x-python",
   "name": "python",
   "nbconvert_exporter": "python",
   "pygments_lexer": "ipython3",
   "version": "3.6.1"
  }
 },
 "nbformat": 4,
 "nbformat_minor": 2
}
